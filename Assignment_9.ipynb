{
 "cells": [
  {
   "cell_type": "code",
   "execution_count": 1,
   "metadata": {},
   "outputs": [
    {
     "name": "stdout",
     "output_type": "stream",
     "text": [
      "The original dataframe:\n",
      "------------------------------------------------------------\n",
      "   Unnamed: 0     Id     Name  Year Gender State  Count\n",
      "0       11349  11350     Emma  2004      F    AK     62\n",
      "1       11350  11351  Madison  2004      F    AK     48\n",
      "2       11351  11352   Hannah  2004      F    AK     46\n",
      "3       11352  11353    Grace  2004      F    AK     44\n",
      "4       11353  11354    Emily  2004      F    AK     41\n",
      "\n",
      "\n",
      "\n",
      "The altered dataframe after dropping Unnamed the column: \n",
      "------------------------------------------------------------\n",
      "      Id     Name  Year Gender State  Count\n",
      "0  11350     Emma  2004      F    AK     62\n",
      "1  11351  Madison  2004      F    AK     48\n",
      "2  11352   Hannah  2004      F    AK     46\n",
      "3  11353    Grace  2004      F    AK     44\n",
      "4  11354    Emily  2004      F    AK     41\n"
     ]
    }
   ],
   "source": [
    "# Q1 To read data from the given url and Delete unnamed columns\n",
    "\n",
    "import numpy as np\n",
    "import pandas as pd\n",
    "\n",
    "#Reading the data from the given url\n",
    "url = 'https://raw.githubusercontent.com/guipsamora/pandas_exercises/master/06_Stats/US_Baby_Names/US_Baby_Names_right.csv'\n",
    "df = pd.read_csv(url)\n",
    "#Printing first five rows of the original unaltered dataframe\n",
    "print(\"The original dataframe:\\n\",'-'*60,sep='')\n",
    "print(df.head())\n",
    "\n",
    "#Dropping the unnamed column\n",
    "df = df.drop(df.columns[df.columns.str.contains('unnamed',case = False)],axis = 1)\n",
    "\n",
    "#Printing the new altered dataframe\n",
    "print(\"\\n\\n\\nThe altered dataframe after dropping Unnamed the column: \\n\",'-'*60,sep='')\n",
    "print(df.head())"
   ]
  },
  {
   "cell_type": "code",
   "execution_count": 2,
   "metadata": {},
   "outputs": [
    {
     "name": "stdout",
     "output_type": "stream",
     "text": [
      "           count       mean         std  min  25%   50%   75%     max\n",
      "Gender                                                               \n",
      "F       558846.0  29.310925   75.962992  5.0  6.0  10.0  23.0  3634.0\n",
      "M       457549.0  41.615650  118.074308  5.0  7.0  12.0  29.0  4167.0\n"
     ]
    }
   ],
   "source": [
    "# Q2. Show the distribution of male and female\n",
    "print(df.groupby('Gender').Count.describe())"
   ]
  },
  {
   "cell_type": "code",
   "execution_count": 3,
   "metadata": {},
   "outputs": [
    {
     "name": "stdout",
     "output_type": "stream",
     "text": [
      "The top 5 most-preferred names are\n",
      "Jacob\n",
      "Emma\n",
      "Michael\n",
      "Ethan\n",
      "Isabella\n"
     ]
    }
   ],
   "source": [
    "# Q3. Show the top 5 most preferred names\n",
    "c = df.groupby('Name').sum()\n",
    "c = c.sort_values(['Count'], ascending=False)\n",
    "names = list(c.index[0:5])\n",
    "print(\"The top 5 most-preferred names are\")\n",
    "for i in range(5):\n",
    "    print(names[i])"
   ]
  },
  {
   "cell_type": "code",
   "execution_count": 4,
   "metadata": {},
   "outputs": [
    {
     "name": "stdout",
     "output_type": "stream",
     "text": [
      "                  Id   Year  Count\n",
      "Name                              \n",
      "Aishani      7810526  14078     49\n",
      "Alara       18841027  16079     49\n",
      "Alysse      22629405  16057     49\n",
      "Ameir       21780411  16086     49\n",
      "Anely        4349541  16071     49\n",
      "Antonina    27672250  18081     49\n",
      "Aveline      7982905  12065     49\n",
      "Aziah       29825407  16073     49\n",
      "Baily       27406186  16064     49\n",
      "Caleah      20967785  18106     49\n",
      "Carlota      6971174  14077     49\n",
      "Cristine    11299091  14042     49\n",
      "Dahlila      8183033  14063     49\n",
      "Darvin      13433473  16078     49\n",
      "Deante      24229110  18064     49\n",
      "Deserae     31068418  18061     49\n",
      "Devean       7100057   8019     49\n",
      "Elizah      13583872  16063     49\n",
      "Emmaly      17488711  16075     49\n",
      "Emmanuela   26771519  18074     49\n",
      "Envy        13006001  16070     49\n",
      "Esli        17424928  16059     49\n",
      "Fay         17137619  16072     49\n",
      "Gurshaan     4884930  14070     49\n",
      "Hareem      16374682  14090     49\n",
      "Iven         4861915  14062     49\n",
      "Jaice       31448007  16098     49\n",
      "Jaiyana     23805956  14068     49\n",
      "Jamiracle   16247591  18091     49\n",
      "Jelissa     24630716  16070     49\n",
      "...              ...    ...    ...\n",
      "Kyndle      33887372  16082     49\n",
      "Kynsley     26646473  14084     49\n",
      "Leylanie     4347491  16070     49\n",
      "Maisha      23441764  14047     49\n",
      "Malillany   17027066  14087     49\n",
      "Mariann     22330712  16060     49\n",
      "Marquell    18281388  16053     49\n",
      "Maurilio    22999235  16058     49\n",
      "Mckynzie    30075282  14068     49\n",
      "Mehdi       23762227  16070     49\n",
      "Nabeel      21778878  18070     49\n",
      "Nalleli     17420939  16058     49\n",
      "Nassir      18112868  16058     49\n",
      "Nazier      31970176  16061     49\n",
      "Nishant     12096448  16050     49\n",
      "Rebecka     17535450  16061     49\n",
      "Reghan      31154500  18073     49\n",
      "Ridwan      25287426  16082     49\n",
      "Riot        26477266  16104     49\n",
      "Rubin       18701425  16055     49\n",
      "Ryatt       25392242  16103     49\n",
      "Sameera     27250241  18083     49\n",
      "Sanjuanita  24554019  10035     49\n",
      "Shalyn      29474001  18061     49\n",
      "Skylie      27316494  16086     49\n",
      "Sriram       9208203  14054     49\n",
      "Trinton     32822302  16069     49\n",
      "Vita        10241632  14075     49\n",
      "Yoni         6439154  16060     49\n",
      "Zuleima      3521373  14050     49\n",
      "\n",
      "[66 rows x 3 columns]\n"
     ]
    }
   ],
   "source": [
    "# Q4 What is the median name occurence in the dataset\n",
    "mn = df.groupby('Name').sum()\n",
    "mdn = mn['Count'].median()\n",
    "print(mn.loc[mn['Count'] == mdn])"
   ]
  },
  {
   "cell_type": "code",
   "execution_count": 5,
   "metadata": {},
   "outputs": [
    {
     "name": "stdout",
     "output_type": "stream",
     "text": [
      "Distribution of male and femle born count by states\n",
      " ------------------------------------------------------------\n",
      "State  Gender\n",
      "AK     F           26250\n",
      "       M           37399\n",
      "AL     F          215308\n",
      "       M          260114\n",
      "AR     F          129712\n",
      "       M          162947\n",
      "AZ     F          368567\n",
      "       M          439691\n",
      "CA     F         2414063\n",
      "       M         2670584\n",
      "CO     F          260805\n",
      "       M          313425\n",
      "CT     F          141350\n",
      "       M          171397\n",
      "DC     F           35276\n",
      "       M           47228\n",
      "DE     F           31312\n",
      "       M           41748\n",
      "FL     F          915422\n",
      "       M         1060957\n",
      "GA     F          549637\n",
      "       M          635531\n",
      "HI     F           37279\n",
      "       M           53127\n",
      "IA     F          144764\n",
      "       M          174009\n",
      "ID     F           72808\n",
      "       M           94320\n",
      "IL     F          695312\n",
      "       M          791679\n",
      "                  ...   \n",
      "OK     F          184967\n",
      "       M          228613\n",
      "OR     F          172111\n",
      "       M          209445\n",
      "PA     F          593382\n",
      "       M          682709\n",
      "RI     F           35560\n",
      "       M           47939\n",
      "SC     F          197917\n",
      "       M          237442\n",
      "SD     F           34104\n",
      "       M           45443\n",
      "TN     F          336487\n",
      "       M          398615\n",
      "TX     F         1786281\n",
      "       M         2005394\n",
      "UT     F          202892\n",
      "       M          245324\n",
      "VA     F          405503\n",
      "       M          466873\n",
      "VT     F           15079\n",
      "       M           21353\n",
      "WA     F          334944\n",
      "       M          395377\n",
      "WI     F          264921\n",
      "       M          311758\n",
      "WV     F           73800\n",
      "       M           93557\n",
      "WY     F           14107\n",
      "       M           21912\n",
      "Name: Count, Length: 102, dtype: int64\n"
     ]
    }
   ],
   "source": [
    "# Q5. Distribution of male and female born count by states\n",
    "print(\"Distribution of male and femle born count by states\\n\",'-'*60)\n",
    "print(df.groupby(['State','Gender']).Count.sum())\n"
   ]
  }
 ],
 "metadata": {
  "kernelspec": {
   "display_name": "Python 3",
   "language": "python",
   "name": "python3"
  },
  "language_info": {
   "codemirror_mode": {
    "name": "ipython",
    "version": 3
   },
   "file_extension": ".py",
   "mimetype": "text/x-python",
   "name": "python",
   "nbconvert_exporter": "python",
   "pygments_lexer": "ipython3",
   "version": "3.6.5"
  }
 },
 "nbformat": 4,
 "nbformat_minor": 2
}
